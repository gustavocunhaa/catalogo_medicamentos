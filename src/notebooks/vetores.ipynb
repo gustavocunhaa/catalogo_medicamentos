{
 "cells": [
  {
   "cell_type": "markdown",
   "metadata": {},
   "source": [
    "# Utilizando o BERTimbau para criação dos vetores\n",
    "\n",
    "https://huggingface.co/neuralmind/bert-base-portuguese-cased"
   ]
  },
  {
   "cell_type": "code",
   "execution_count": 18,
   "metadata": {},
   "outputs": [],
   "source": [
    "import os\n",
    "from dotenv import load_dotenv\n",
    "from sqlalchemy import create_engine\n",
    "import psycopg2 as pgsql\n",
    "import pandas as pd\n",
    "\n",
    "from transformers import AutoTokenizer  \n",
    "from transformers import AutoModel\n",
    "import torch"
   ]
  },
  {
   "cell_type": "code",
   "execution_count": 19,
   "metadata": {},
   "outputs": [
    {
     "data": {
      "text/plain": [
       "True"
      ]
     },
     "execution_count": 19,
     "metadata": {},
     "output_type": "execute_result"
    }
   ],
   "source": [
    "load_dotenv()"
   ]
  },
  {
   "cell_type": "code",
   "execution_count": 20,
   "metadata": {},
   "outputs": [],
   "source": [
    "user=os.environ['user']\n",
    "password=os.environ['password']\n",
    "host=os.environ['host']\n",
    "port=os.environ['port']\n",
    "database=os.environ['database']\n",
    "\n",
    "url = f\"postgresql+psycopg2://{user}:{password}@{host}:{port}/{database}\"\n",
    "con = create_engine(url)"
   ]
  },
  {
   "cell_type": "code",
   "execution_count": 28,
   "metadata": {},
   "outputs": [],
   "source": [
    "# Selecionando todos os campos textuais que serão utilizados para construir o vetor do produto\n",
    "\n",
    "query_infos = \"\"\"\n",
    "    SELECT\n",
    "        f.medicamento_id,\n",
    "        CONCAT(clf.produto, ' ', clf.principio_ativo, ' ', \n",
    "            clf.tipo, ' ', clf.categoria, ' ', \n",
    "            clf.classe_terapeutica, ' ', clf.especialidade, ' ', \n",
    "            clf.fabricante) as descricao\n",
    "    FROM fat_produto f\n",
    "    INNER JOIN dim_classificacao_produto clf\n",
    "        on f.medicamento_id = clf.medicamento_id\n",
    "    WHERE\n",
    "        1=1\n",
    "        and f.deleted_at is null\n",
    "    LIMIT 10;\n",
    "\"\"\""
   ]
  },
  {
   "cell_type": "code",
   "execution_count": 29,
   "metadata": {},
   "outputs": [],
   "source": [
    "df = pd.read_sql(query_infos, con)"
   ]
  },
  {
   "cell_type": "code",
   "execution_count": 30,
   "metadata": {},
   "outputs": [
    {
     "data": {
      "text/html": [
       "<div>\n",
       "<style scoped>\n",
       "    .dataframe tbody tr th:only-of-type {\n",
       "        vertical-align: middle;\n",
       "    }\n",
       "\n",
       "    .dataframe tbody tr th {\n",
       "        vertical-align: top;\n",
       "    }\n",
       "\n",
       "    .dataframe thead th {\n",
       "        text-align: right;\n",
       "    }\n",
       "</style>\n",
       "<table border=\"1\" class=\"dataframe\">\n",
       "  <thead>\n",
       "    <tr style=\"text-align: right;\">\n",
       "      <th></th>\n",
       "      <th>medicamento_id</th>\n",
       "      <th>descricao</th>\n",
       "    </tr>\n",
       "  </thead>\n",
       "  <tbody>\n",
       "    <tr>\n",
       "      <th>0</th>\n",
       "      <td>1</td>\n",
       "      <td>A Curitybina Ácido Salicílico Similar Calos E ...</td>\n",
       "    </tr>\n",
       "    <tr>\n",
       "      <th>1</th>\n",
       "      <td>2</td>\n",
       "      <td>A Saúde da Mulher Plumeria Lancifolia + Salici...</td>\n",
       "    </tr>\n",
       "    <tr>\n",
       "      <th>2</th>\n",
       "      <td>3</td>\n",
       "      <td>Advantage Max3 para Cães Imidacloprida + Perme...</td>\n",
       "    </tr>\n",
       "    <tr>\n",
       "      <th>3</th>\n",
       "      <td>4</td>\n",
       "      <td>Timosan Maleato De Timolol Similar Doenças Dos...</td>\n",
       "    </tr>\n",
       "    <tr>\n",
       "      <th>4</th>\n",
       "      <td>5</td>\n",
       "      <td>Timosopt Cloridrato De Dorzolamida + Maleato D...</td>\n",
       "    </tr>\n",
       "    <tr>\n",
       "      <th>5</th>\n",
       "      <td>6</td>\n",
       "      <td>Tintura de Allium sativum FSL Farma Associaçõe...</td>\n",
       "    </tr>\n",
       "    <tr>\n",
       "      <th>6</th>\n",
       "      <td>7</td>\n",
       "      <td>Tintura de Amora Negra Miligrama Homeopático O...</td>\n",
       "    </tr>\n",
       "    <tr>\n",
       "      <th>7</th>\n",
       "      <td>8</td>\n",
       "      <td>Tintura de Assa Peixe FSL Farma Associações Fi...</td>\n",
       "    </tr>\n",
       "    <tr>\n",
       "      <th>8</th>\n",
       "      <td>9</td>\n",
       "      <td>Tintura de Cana do Brejo FSL Farma Associações...</td>\n",
       "    </tr>\n",
       "    <tr>\n",
       "      <th>9</th>\n",
       "      <td>10</td>\n",
       "      <td>Tintura de Carqueja FSL Farma Associações Fito...</td>\n",
       "    </tr>\n",
       "  </tbody>\n",
       "</table>\n",
       "</div>"
      ],
      "text/plain": [
       "   medicamento_id                                          descricao\n",
       "0               1  A Curitybina Ácido Salicílico Similar Calos E ...\n",
       "1               2  A Saúde da Mulher Plumeria Lancifolia + Salici...\n",
       "2               3  Advantage Max3 para Cães Imidacloprida + Perme...\n",
       "3               4  Timosan Maleato De Timolol Similar Doenças Dos...\n",
       "4               5  Timosopt Cloridrato De Dorzolamida + Maleato D...\n",
       "5               6  Tintura de Allium sativum FSL Farma Associaçõe...\n",
       "6               7  Tintura de Amora Negra Miligrama Homeopático O...\n",
       "7               8  Tintura de Assa Peixe FSL Farma Associações Fi...\n",
       "8               9  Tintura de Cana do Brejo FSL Farma Associações...\n",
       "9              10  Tintura de Carqueja FSL Farma Associações Fito..."
      ]
     },
     "execution_count": 30,
     "metadata": {},
     "output_type": "execute_result"
    }
   ],
   "source": [
    "df"
   ]
  },
  {
   "cell_type": "code",
   "execution_count": 42,
   "metadata": {},
   "outputs": [],
   "source": [
    "# função de vetorização\n",
    "\n",
    "def query(text):\n",
    "    tokenizer = AutoTokenizer.from_pretrained('neuralmind/bert-base-portuguese-cased', do_lower_case=False)\n",
    "\n",
    "    model = AutoModel.from_pretrained('neuralmind/bert-base-portuguese-cased')\n",
    "    input_ids = tokenizer.encode(f'{text}', return_tensors='pt')\n",
    "\n",
    "    with torch.no_grad():\n",
    "        outs = model(input_ids)\n",
    "        encoded = outs[0][0, 1:-1]  # Ignore [CLS] and [SEP] special tokens\n",
    "    vetor = encoded.mean(dim=0).detach().numpy()\n",
    "    \n",
    "    return list(vetor)"
   ]
  },
  {
   "cell_type": "code",
   "execution_count": 43,
   "metadata": {},
   "outputs": [
    {
     "name": "stderr",
     "output_type": "stream",
     "text": [
      "/home/gustavo-cunha/Documentos/GitHub/catalogo_medicamentos/env/lib/python3.12/site-packages/transformers/tokenization_utils_base.py:1601: FutureWarning: `clean_up_tokenization_spaces` was not set. It will be set to `True` by default. This behavior will be depracted in transformers v4.45, and will be then set to `False` by default. For more details check this issue: https://github.com/huggingface/transformers/issues/31884\n",
      "  warnings.warn(\n"
     ]
    }
   ],
   "source": [
    "vector_list = []\n",
    "\n",
    "for i in range(0, len(df)):\n",
    "    output = query(df['descricao'][i])\n",
    "    vector_list.append(output)\n",
    "\n",
    "df['vetor'] = vector_list"
   ]
  },
  {
   "cell_type": "code",
   "execution_count": 44,
   "metadata": {},
   "outputs": [
    {
     "data": {
      "text/html": [
       "<div>\n",
       "<style scoped>\n",
       "    .dataframe tbody tr th:only-of-type {\n",
       "        vertical-align: middle;\n",
       "    }\n",
       "\n",
       "    .dataframe tbody tr th {\n",
       "        vertical-align: top;\n",
       "    }\n",
       "\n",
       "    .dataframe thead th {\n",
       "        text-align: right;\n",
       "    }\n",
       "</style>\n",
       "<table border=\"1\" class=\"dataframe\">\n",
       "  <thead>\n",
       "    <tr style=\"text-align: right;\">\n",
       "      <th></th>\n",
       "      <th>medicamento_id</th>\n",
       "      <th>descricao</th>\n",
       "      <th>vetor</th>\n",
       "    </tr>\n",
       "  </thead>\n",
       "  <tbody>\n",
       "    <tr>\n",
       "      <th>0</th>\n",
       "      <td>1</td>\n",
       "      <td>A Curitybina Ácido Salicílico Similar Calos E ...</td>\n",
       "      <td>[-0.009731463, -0.2187955, 0.24772458, -0.0101...</td>\n",
       "    </tr>\n",
       "    <tr>\n",
       "      <th>1</th>\n",
       "      <td>2</td>\n",
       "      <td>A Saúde da Mulher Plumeria Lancifolia + Salici...</td>\n",
       "      <td>[-0.08012641, -0.25941694, 0.6892007, -0.18553...</td>\n",
       "    </tr>\n",
       "    <tr>\n",
       "      <th>2</th>\n",
       "      <td>3</td>\n",
       "      <td>Advantage Max3 para Cães Imidacloprida + Perme...</td>\n",
       "      <td>[0.14458345, -0.06095767, 0.5265002, 0.1192908...</td>\n",
       "    </tr>\n",
       "    <tr>\n",
       "      <th>3</th>\n",
       "      <td>4</td>\n",
       "      <td>Timosan Maleato De Timolol Similar Doenças Dos...</td>\n",
       "      <td>[-0.019600984, -0.13994999, 0.29558375, -0.280...</td>\n",
       "    </tr>\n",
       "    <tr>\n",
       "      <th>4</th>\n",
       "      <td>5</td>\n",
       "      <td>Timosopt Cloridrato De Dorzolamida + Maleato D...</td>\n",
       "      <td>[0.15316992, -0.091649935, 0.29392785, -0.0913...</td>\n",
       "    </tr>\n",
       "    <tr>\n",
       "      <th>5</th>\n",
       "      <td>6</td>\n",
       "      <td>Tintura de Allium sativum FSL Farma Associaçõe...</td>\n",
       "      <td>[-0.0117131295, -0.19581011, 0.52420866, 0.058...</td>\n",
       "    </tr>\n",
       "    <tr>\n",
       "      <th>6</th>\n",
       "      <td>7</td>\n",
       "      <td>Tintura de Amora Negra Miligrama Homeopático O...</td>\n",
       "      <td>[0.11876611, -0.06176117, 0.3779615, -0.037188...</td>\n",
       "    </tr>\n",
       "    <tr>\n",
       "      <th>7</th>\n",
       "      <td>8</td>\n",
       "      <td>Tintura de Assa Peixe FSL Farma Associações Fi...</td>\n",
       "      <td>[0.035189904, -0.1919168, 0.543696, 0.10637081...</td>\n",
       "    </tr>\n",
       "    <tr>\n",
       "      <th>8</th>\n",
       "      <td>9</td>\n",
       "      <td>Tintura de Cana do Brejo FSL Farma Associações...</td>\n",
       "      <td>[-0.019185629, -0.2048706, 0.5076293, 0.174192...</td>\n",
       "    </tr>\n",
       "    <tr>\n",
       "      <th>9</th>\n",
       "      <td>10</td>\n",
       "      <td>Tintura de Carqueja FSL Farma Associações Fito...</td>\n",
       "      <td>[-0.0179521, -0.17272326, 0.50445193, 0.149744...</td>\n",
       "    </tr>\n",
       "  </tbody>\n",
       "</table>\n",
       "</div>"
      ],
      "text/plain": [
       "   medicamento_id                                          descricao  \\\n",
       "0               1  A Curitybina Ácido Salicílico Similar Calos E ...   \n",
       "1               2  A Saúde da Mulher Plumeria Lancifolia + Salici...   \n",
       "2               3  Advantage Max3 para Cães Imidacloprida + Perme...   \n",
       "3               4  Timosan Maleato De Timolol Similar Doenças Dos...   \n",
       "4               5  Timosopt Cloridrato De Dorzolamida + Maleato D...   \n",
       "5               6  Tintura de Allium sativum FSL Farma Associaçõe...   \n",
       "6               7  Tintura de Amora Negra Miligrama Homeopático O...   \n",
       "7               8  Tintura de Assa Peixe FSL Farma Associações Fi...   \n",
       "8               9  Tintura de Cana do Brejo FSL Farma Associações...   \n",
       "9              10  Tintura de Carqueja FSL Farma Associações Fito...   \n",
       "\n",
       "                                               vetor  \n",
       "0  [-0.009731463, -0.2187955, 0.24772458, -0.0101...  \n",
       "1  [-0.08012641, -0.25941694, 0.6892007, -0.18553...  \n",
       "2  [0.14458345, -0.06095767, 0.5265002, 0.1192908...  \n",
       "3  [-0.019600984, -0.13994999, 0.29558375, -0.280...  \n",
       "4  [0.15316992, -0.091649935, 0.29392785, -0.0913...  \n",
       "5  [-0.0117131295, -0.19581011, 0.52420866, 0.058...  \n",
       "6  [0.11876611, -0.06176117, 0.3779615, -0.037188...  \n",
       "7  [0.035189904, -0.1919168, 0.543696, 0.10637081...  \n",
       "8  [-0.019185629, -0.2048706, 0.5076293, 0.174192...  \n",
       "9  [-0.0179521, -0.17272326, 0.50445193, 0.149744...  "
      ]
     },
     "execution_count": 44,
     "metadata": {},
     "output_type": "execute_result"
    }
   ],
   "source": [
    "df"
   ]
  },
  {
   "cell_type": "code",
   "execution_count": 46,
   "metadata": {},
   "outputs": [
    {
     "data": {
      "text/plain": [
       "768"
      ]
     },
     "execution_count": 46,
     "metadata": {},
     "output_type": "execute_result"
    }
   ],
   "source": [
    "len(df['vetor'][0]) # dimensão do vetor"
   ]
  },
  {
   "cell_type": "markdown",
   "metadata": {},
   "source": [
    "### Criando tabela de vetores e populando com o teste"
   ]
  },
  {
   "cell_type": "code",
   "execution_count": 47,
   "metadata": {},
   "outputs": [],
   "source": [
    "def exec_query(sql):\n",
    "    conn = pgsql.connect(database = database, \n",
    "                     user = user, \n",
    "                     host= host,\n",
    "                     password = password,\n",
    "                     port = port)\n",
    "    \n",
    "    cur = conn.cursor()\n",
    "    cur.execute(sql)\n",
    "    conn.commit()\n",
    "    cur.close()\n",
    "    conn.close()"
   ]
  },
  {
   "cell_type": "code",
   "execution_count": 38,
   "metadata": {},
   "outputs": [],
   "source": [
    "# criando a tabela de vetores\n",
    "sql_create = \"\"\"CREATE TABLE dim_vetores_teste (\n",
    "            medicamento_id bigint PRIMARY KEY, \n",
    "            vetor vector(768)\n",
    "            );\n",
    "            \"\"\"\n",
    "\n",
    "exec_query(sql_create)"
   ]
  },
  {
   "cell_type": "code",
   "execution_count": 50,
   "metadata": {},
   "outputs": [],
   "source": [
    "# populando a tabela de vetores\n",
    "\n",
    "for n in range(0, len(df)):\n",
    "    sql_insert = f\"\"\" \n",
    "    INSERT INTO dim_vetores_teste(medicamento_id, vetor) VALUES({df['medicamento_id'][n]}, '{df['vetor'][n]}');\n",
    "    \"\"\"\n",
    "    exec_query(sql_insert)"
   ]
  },
  {
   "cell_type": "markdown",
   "metadata": {},
   "source": [
    "### Buscando por proximidade simulando um campo de busca"
   ]
  },
  {
   "cell_type": "code",
   "execution_count": 51,
   "metadata": {},
   "outputs": [
    {
     "data": {
      "text/plain": [
       "0    A Curitybina Ácido Salicílico Similar Calos E ...\n",
       "1    A Saúde da Mulher Plumeria Lancifolia + Salici...\n",
       "2    Advantage Max3 para Cães Imidacloprida + Perme...\n",
       "3    Timosan Maleato De Timolol Similar Doenças Dos...\n",
       "4    Timosopt Cloridrato De Dorzolamida + Maleato D...\n",
       "5    Tintura de Allium sativum FSL Farma Associaçõe...\n",
       "6    Tintura de Amora Negra Miligrama Homeopático O...\n",
       "7    Tintura de Assa Peixe FSL Farma Associações Fi...\n",
       "8    Tintura de Cana do Brejo FSL Farma Associações...\n",
       "9    Tintura de Carqueja FSL Farma Associações Fito...\n",
       "Name: descricao, dtype: object"
      ]
     },
     "execution_count": 51,
     "metadata": {},
     "output_type": "execute_result"
    }
   ],
   "source": [
    "df['descricao']"
   ]
  },
  {
   "cell_type": "code",
   "execution_count": 53,
   "metadata": {},
   "outputs": [],
   "source": [
    "vetor = query(\"medicamento para caes\") # formulando um texto de busca que faça sentido com as descricoes para visualizar as opções mais proximas\n",
    "\n",
    "query_find = f\"SELECT medicamento_id FROM dim_vetores_teste ORDER BY vetor <=> '{vetor}' LIMIT 2;\""
   ]
  },
  {
   "cell_type": "code",
   "execution_count": 54,
   "metadata": {},
   "outputs": [
    {
     "name": "stdout",
     "output_type": "stream",
     "text": [
      "(3,)\n",
      "(7,)\n"
     ]
    }
   ],
   "source": [
    "conn = pgsql.connect(database = database, \n",
    "                    user = user, \n",
    "                    host= host,\n",
    "                    password = password,\n",
    "                    port = port)\n",
    "\n",
    "cur = conn.cursor()\n",
    "cur.execute(query_find)\n",
    "rows = cur.fetchall()\n",
    "conn.commit()\n",
    "conn.close()\n",
    "for row in rows:\n",
    "    print(row)"
   ]
  }
 ],
 "metadata": {
  "kernelspec": {
   "display_name": "env",
   "language": "python",
   "name": "python3"
  },
  "language_info": {
   "codemirror_mode": {
    "name": "ipython",
    "version": 3
   },
   "file_extension": ".py",
   "mimetype": "text/x-python",
   "name": "python",
   "nbconvert_exporter": "python",
   "pygments_lexer": "ipython3",
   "version": "3.12.3"
  }
 },
 "nbformat": 4,
 "nbformat_minor": 2
}
