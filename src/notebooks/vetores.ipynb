{
 "cells": [
  {
   "cell_type": "markdown",
   "metadata": {},
   "source": [
    "# Utilizando o BERTimbau para criação dos vetores\n",
    "\n",
    "https://huggingface.co/neuralmind/bert-base-portuguese-cased"
   ]
  },
  {
   "cell_type": "code",
   "execution_count": 1,
   "metadata": {},
   "outputs": [],
   "source": [
    "import os\n",
    "from dotenv import load_dotenv\n",
    "from sqlalchemy import create_engine\n",
    "import psycopg2 as pgsql\n",
    "import pandas as pd\n",
    "import requests"
   ]
  },
  {
   "cell_type": "code",
   "execution_count": 2,
   "metadata": {},
   "outputs": [
    {
     "data": {
      "text/plain": [
       "True"
      ]
     },
     "execution_count": 2,
     "metadata": {},
     "output_type": "execute_result"
    }
   ],
   "source": [
    "load_dotenv()"
   ]
  },
  {
   "cell_type": "code",
   "execution_count": 3,
   "metadata": {},
   "outputs": [],
   "source": [
    "user=os.environ['user']\n",
    "password=os.environ['password']\n",
    "host=os.environ['host']\n",
    "port=os.environ['port']\n",
    "database=os.environ['database']\n",
    "\n",
    "url = f\"postgresql+psycopg2://{user}:{password}@{host}:{port}/{database}\"\n",
    "con = create_engine(url)"
   ]
  },
  {
   "cell_type": "code",
   "execution_count": 4,
   "metadata": {},
   "outputs": [],
   "source": [
    "# Selecionando todos os campos textuais que serão utilizados para construir o vetor do produto\n",
    "\n",
    "query_infos = \"\"\"\n",
    "    SELECT\n",
    "        f.medicamento_id,\n",
    "        CONCAT(clf.produto, ' ', clf.principio_ativo, ' ', \n",
    "            clf.tipo, ' ', clf.categoria, ' ', \n",
    "            clf.classe_terapeutica, ' ', clf.especialidade, ' ', \n",
    "            clf.fabricante) as descricao\n",
    "    FROM fat_produto f\n",
    "    INNER JOIN dim_classificacao_produto clf\n",
    "        on f.medicamento_id = clf.medicamento_id\n",
    "    WHERE\n",
    "        1=1\n",
    "        and f.deleted_at is null\n",
    "\"\"\""
   ]
  },
  {
   "cell_type": "code",
   "execution_count": 5,
   "metadata": {},
   "outputs": [],
   "source": [
    "df = pd.read_sql(query_infos, con)"
   ]
  },
  {
   "cell_type": "code",
   "execution_count": 6,
   "metadata": {},
   "outputs": [
    {
     "data": {
      "text/html": [
       "<div>\n",
       "<style scoped>\n",
       "    .dataframe tbody tr th:only-of-type {\n",
       "        vertical-align: middle;\n",
       "    }\n",
       "\n",
       "    .dataframe tbody tr th {\n",
       "        vertical-align: top;\n",
       "    }\n",
       "\n",
       "    .dataframe thead th {\n",
       "        text-align: right;\n",
       "    }\n",
       "</style>\n",
       "<table border=\"1\" class=\"dataframe\">\n",
       "  <thead>\n",
       "    <tr style=\"text-align: right;\">\n",
       "      <th></th>\n",
       "      <th>medicamento_id</th>\n",
       "      <th>descricao</th>\n",
       "    </tr>\n",
       "  </thead>\n",
       "  <tbody>\n",
       "    <tr>\n",
       "      <th>0</th>\n",
       "      <td>1</td>\n",
       "      <td>A Curitybina Ácido Salicílico Similar Calos E ...</td>\n",
       "    </tr>\n",
       "    <tr>\n",
       "      <th>1</th>\n",
       "      <td>2</td>\n",
       "      <td>A Saúde da Mulher Plumeria Lancifolia + Salici...</td>\n",
       "    </tr>\n",
       "    <tr>\n",
       "      <th>2</th>\n",
       "      <td>3</td>\n",
       "      <td>Advantage Max3 para Cães Imidacloprida + Perme...</td>\n",
       "    </tr>\n",
       "    <tr>\n",
       "      <th>3</th>\n",
       "      <td>4</td>\n",
       "      <td>Timosan Maleato De Timolol Similar Doenças Dos...</td>\n",
       "    </tr>\n",
       "    <tr>\n",
       "      <th>4</th>\n",
       "      <td>5</td>\n",
       "      <td>Timosopt Cloridrato De Dorzolamida + Maleato D...</td>\n",
       "    </tr>\n",
       "  </tbody>\n",
       "</table>\n",
       "</div>"
      ],
      "text/plain": [
       "   medicamento_id                                          descricao\n",
       "0               1  A Curitybina Ácido Salicílico Similar Calos E ...\n",
       "1               2  A Saúde da Mulher Plumeria Lancifolia + Salici...\n",
       "2               3  Advantage Max3 para Cães Imidacloprida + Perme...\n",
       "3               4  Timosan Maleato De Timolol Similar Doenças Dos...\n",
       "4               5  Timosopt Cloridrato De Dorzolamida + Maleato D..."
      ]
     },
     "execution_count": 6,
     "metadata": {},
     "output_type": "execute_result"
    }
   ],
   "source": [
    "df.head()"
   ]
  },
  {
   "cell_type": "code",
   "execution_count": 7,
   "metadata": {},
   "outputs": [],
   "source": [
    "# utilizando a API de inferencia do hugging face\n",
    "\n",
    "model_id = \"neuralmind/bert-base-portuguese-cased\"\n",
    "hf_token = os.environ['hf_token']\n",
    "\n",
    "api_url = f\"https://api-inference.huggingface.co/pipeline/feature-extraction/{model_id}\"\n",
    "headers = {\"Authorization\": f\"Bearer {hf_token}\"}\n",
    "\n",
    "def query(texts):\n",
    "    response = requests.post(api_url, headers=headers, json={\"inputs\": texts, \"options\":{\"wait_for_model\":True}})\n",
    "    return response.json()"
   ]
  },
  {
   "cell_type": "code",
   "execution_count": 8,
   "metadata": {},
   "outputs": [],
   "source": [
    "df_teste = df[:5].copy() # fazendo um teste para as 5 primeiras linhas\n",
    "output = query(df_teste['descricao'].tolist())"
   ]
  },
  {
   "cell_type": "code",
   "execution_count": 9,
   "metadata": {},
   "outputs": [],
   "source": [
    "vector_list = []\n",
    "for i in range(0, len(output)):\n",
    "    vector_list.append(output[i][0][0]) # coletando apenas o token CLS\n",
    "\n",
    "df_teste['vetor'] = vector_list"
   ]
  },
  {
   "cell_type": "code",
   "execution_count": 10,
   "metadata": {},
   "outputs": [
    {
     "data": {
      "text/html": [
       "<div>\n",
       "<style scoped>\n",
       "    .dataframe tbody tr th:only-of-type {\n",
       "        vertical-align: middle;\n",
       "    }\n",
       "\n",
       "    .dataframe tbody tr th {\n",
       "        vertical-align: top;\n",
       "    }\n",
       "\n",
       "    .dataframe thead th {\n",
       "        text-align: right;\n",
       "    }\n",
       "</style>\n",
       "<table border=\"1\" class=\"dataframe\">\n",
       "  <thead>\n",
       "    <tr style=\"text-align: right;\">\n",
       "      <th></th>\n",
       "      <th>medicamento_id</th>\n",
       "      <th>descricao</th>\n",
       "      <th>vetor</th>\n",
       "    </tr>\n",
       "  </thead>\n",
       "  <tbody>\n",
       "    <tr>\n",
       "      <th>0</th>\n",
       "      <td>1</td>\n",
       "      <td>A Curitybina Ácido Salicílico Similar Calos E ...</td>\n",
       "      <td>[0.5235412120819092, 0.019545389339327812, 0.5...</td>\n",
       "    </tr>\n",
       "    <tr>\n",
       "      <th>1</th>\n",
       "      <td>2</td>\n",
       "      <td>A Saúde da Mulher Plumeria Lancifolia + Salici...</td>\n",
       "      <td>[-0.026552362367510796, -0.29817309975624084, ...</td>\n",
       "    </tr>\n",
       "    <tr>\n",
       "      <th>2</th>\n",
       "      <td>3</td>\n",
       "      <td>Advantage Max3 para Cães Imidacloprida + Perme...</td>\n",
       "      <td>[0.19392092525959015, 0.16702786087989807, 1.4...</td>\n",
       "    </tr>\n",
       "    <tr>\n",
       "      <th>3</th>\n",
       "      <td>4</td>\n",
       "      <td>Timosan Maleato De Timolol Similar Doenças Dos...</td>\n",
       "      <td>[0.33091333508491516, 0.08722129464149475, 0.7...</td>\n",
       "    </tr>\n",
       "    <tr>\n",
       "      <th>4</th>\n",
       "      <td>5</td>\n",
       "      <td>Timosopt Cloridrato De Dorzolamida + Maleato D...</td>\n",
       "      <td>[0.311635822057724, 0.0001349445665255189, 0.5...</td>\n",
       "    </tr>\n",
       "  </tbody>\n",
       "</table>\n",
       "</div>"
      ],
      "text/plain": [
       "   medicamento_id                                          descricao  \\\n",
       "0               1  A Curitybina Ácido Salicílico Similar Calos E ...   \n",
       "1               2  A Saúde da Mulher Plumeria Lancifolia + Salici...   \n",
       "2               3  Advantage Max3 para Cães Imidacloprida + Perme...   \n",
       "3               4  Timosan Maleato De Timolol Similar Doenças Dos...   \n",
       "4               5  Timosopt Cloridrato De Dorzolamida + Maleato D...   \n",
       "\n",
       "                                               vetor  \n",
       "0  [0.5235412120819092, 0.019545389339327812, 0.5...  \n",
       "1  [-0.026552362367510796, -0.29817309975624084, ...  \n",
       "2  [0.19392092525959015, 0.16702786087989807, 1.4...  \n",
       "3  [0.33091333508491516, 0.08722129464149475, 0.7...  \n",
       "4  [0.311635822057724, 0.0001349445665255189, 0.5...  "
      ]
     },
     "execution_count": 10,
     "metadata": {},
     "output_type": "execute_result"
    }
   ],
   "source": [
    "df_teste"
   ]
  },
  {
   "cell_type": "code",
   "execution_count": 11,
   "metadata": {},
   "outputs": [
    {
     "data": {
      "text/plain": [
       "768"
      ]
     },
     "execution_count": 11,
     "metadata": {},
     "output_type": "execute_result"
    }
   ],
   "source": [
    "len(df_teste['vetor'][0]) # dimensão do vetor"
   ]
  },
  {
   "cell_type": "markdown",
   "metadata": {},
   "source": [
    "### Criando tabela de vetores e populando com o teste"
   ]
  },
  {
   "cell_type": "code",
   "execution_count": 12,
   "metadata": {},
   "outputs": [],
   "source": [
    "def exec_query(sql):\n",
    "    conn = pgsql.connect(database = database, \n",
    "                     user = user, \n",
    "                     host= host,\n",
    "                     password = password,\n",
    "                     port = port)\n",
    "    \n",
    "    cur = conn.cursor()\n",
    "    cur.execute(sql)\n",
    "    conn.commit()\n",
    "    cur.close()\n",
    "    conn.close()"
   ]
  },
  {
   "cell_type": "code",
   "execution_count": 13,
   "metadata": {},
   "outputs": [],
   "source": [
    "# criando a tabela de vetores\n",
    "sql_create = \"\"\"CREATE TABLE dim_vetores_teste (\n",
    "            medicamento_id bigint PRIMARY KEY, \n",
    "            vetor vector(768)\n",
    "            );\n",
    "            \"\"\"\n",
    "\n",
    "exec_query(sql_create)"
   ]
  },
  {
   "cell_type": "code",
   "execution_count": 14,
   "metadata": {},
   "outputs": [],
   "source": [
    "# populando a tabela de vetores\n",
    "\n",
    "for n in range(0, len(df_teste)):\n",
    "    sql_insert = f\"\"\" \n",
    "    INSERT INTO dim_vetores_teste(medicamento_id, vetor) VALUES({df_teste['medicamento_id'][n]}, '{df_teste['vetor'][n]}');\n",
    "    \"\"\"\n",
    "    exec_query(sql_insert)"
   ]
  },
  {
   "cell_type": "markdown",
   "metadata": {},
   "source": [
    "### Buscando por proximidade simulando um campo de busca"
   ]
  },
  {
   "cell_type": "code",
   "execution_count": 15,
   "metadata": {},
   "outputs": [
    {
     "data": {
      "text/plain": [
       "0    A Curitybina Ácido Salicílico Similar Calos E ...\n",
       "1    A Saúde da Mulher Plumeria Lancifolia + Salici...\n",
       "2    Advantage Max3 para Cães Imidacloprida + Perme...\n",
       "3    Timosan Maleato De Timolol Similar Doenças Dos...\n",
       "4    Timosopt Cloridrato De Dorzolamida + Maleato D...\n",
       "Name: descricao, dtype: object"
      ]
     },
     "execution_count": 15,
     "metadata": {},
     "output_type": "execute_result"
    }
   ],
   "source": [
    "df_teste['descricao']"
   ]
  },
  {
   "cell_type": "code",
   "execution_count": 16,
   "metadata": {},
   "outputs": [],
   "source": [
    "vetor = query(\"medicamento para caes\")[0][0] # formulando um texto de busca que faça sentido com as descricoes para visualizar as opções mais proximas\n",
    "\n",
    "query_find = f\"SELECT medicamento_id FROM dim_vetores_teste ORDER BY vetor <=> '{vetor}' LIMIT 2;\""
   ]
  },
  {
   "cell_type": "code",
   "execution_count": 17,
   "metadata": {},
   "outputs": [
    {
     "name": "stdout",
     "output_type": "stream",
     "text": [
      "(4,)\n",
      "(3,)\n"
     ]
    }
   ],
   "source": [
    "conn = pgsql.connect(database = database, \n",
    "                    user = user, \n",
    "                    host= host,\n",
    "                    password = password,\n",
    "                    port = port)\n",
    "\n",
    "cur = conn.cursor()\n",
    "cur.execute(query_find)\n",
    "rows = cur.fetchall()\n",
    "conn.commit()\n",
    "conn.close()\n",
    "for row in rows:\n",
    "    print(row)"
   ]
  }
 ],
 "metadata": {
  "kernelspec": {
   "display_name": "env",
   "language": "python",
   "name": "python3"
  },
  "language_info": {
   "codemirror_mode": {
    "name": "ipython",
    "version": 3
   },
   "file_extension": ".py",
   "mimetype": "text/x-python",
   "name": "python",
   "nbconvert_exporter": "python",
   "pygments_lexer": "ipython3",
   "version": "3.12.3"
  }
 },
 "nbformat": 4,
 "nbformat_minor": 2
}
